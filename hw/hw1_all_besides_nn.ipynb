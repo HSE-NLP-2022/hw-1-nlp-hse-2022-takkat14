{
 "cells": [
  {
   "cell_type": "markdown",
   "metadata": {},
   "source": [
    "# Домашнее задание\n",
    "## Harry Potter and the Action Prediction Challenge from Natural Language\n",
    "\n",
    "*deadline*: 14 ноября 2022, 23:59\n",
    "\n",
    "В этом домашнем задании вы будете работать с корпусом Harry Potter and the Action Prediction Challenge. Корпус собран из фанфиков о Гарри Поттере и состоит из двух частей: 1) сырые тексты, 2) фрагменты текстов, описывающих ситуацию, в которой произнесено заклинание.\n",
    "\n",
    "Корпус описан в статье: https://arxiv.org/pdf/1905.11037.pdf\n",
    "\n",
    "David Vilares and Carlos Gómez-Rodríguez. Harry Potter and the Action Prediction Challenge from Natural Language. 2019 Annual Conference of the North American Chapter of the Association for Computational Linguistics. To appear.\n",
    "\n",
    "Код для сбора корпуса находится в репозитории: https://github.com/aghie/hpac . Корпус можно скачать по инструкции из этого репозитория, но для экономии времени авторы задания уже скачали и подготовили данные к работе. \n",
    "\n",
    "Ссылки на собранный корпус: \n",
    "* Сырые тексты:  https://www.dropbox.com/s/23xet9kvbqna1qs/hpac_raw.zip?dl=0\n",
    "* Токенизированные тексты в нижнем регистре: https://www.dropbox.com/s/gwfgmomdbetvdye/hpac_lower_tokenized.zip?dl=0\n",
    "* train-test-dev: https://www.dropbox.com/s/3vdz0mouvex8abd/hpac_splits.zip?dl=0\n",
    "\n",
    "Части 1, 2 задания должны быть выполнены на полных текстах (сырых или предобработанных -- на ваше усмотрение), Часть 3 – на разбиение на тестовое, отладочное и обучающее множества. Тестовое множество должно быть использовано исключительно для тестирования моделей, обучающее и отладочное – для выбора модели и параметров. \n",
    "\n",
    "В статье и репозитории вы найдете идеи, которые помогут вам выполнить домашнее задание. Их стоит воспринимать как руководство к действию, и не стоит их копировать и переиспользовать. Обученные модели использовать не нужно, код для их обучения можно использовать как подсказку. \n",
    "\n",
    "## ПРАВИЛА\n",
    "1. Домашнее задание выполняется в группе до 3-х человек.\n",
    "2. Домашнее задание оформляется в виде отчета либо в .pdf файле, либо ipython-тетрадке. \n",
    "3. Отчет должен содержать: нумерацию заданий и пунктов, которые вы выполнили, код решения, и понятное пошаговое описание того, что вы сделали. Отчет должен быть написан в академическом стиле, без излишнего использования сленга и с соблюдением норм русского языка.\n",
    "4. Не стоит копировать фрагменты лекций, статей и Википедии в ваш отчет.\n",
    "5. Отчеты, состоящие исключительно из кода, не будут проверены и будут автоматически оценены нулевой оценкой.\n",
    "6. Плагиат и любое недобросоветсное цитирование приводит к обнуление оценки. \n",
    "\n",
    "\n",
    "## Часть 1. [2 балла] Эксплоративный анализ \n",
    "1. Найдите топ-1000 слов по частоте без учета стоп-слов.\n",
    "2. Найдите топ-10 по частоте: имен, пар имя + фамилия, пар вида ''профессор'' + имя / фамилия. \n",
    "\n",
    "[бонус] Постройте тематическую модель по корпусу HPAC.\n",
    "\n",
    "[бонус] Найдите еще что-то интересное в корпусе (что-то специфичное для фанфиков или фентези-тематики)"
   ]
  },
  {
   "cell_type": "markdown",
   "metadata": {},
   "source": [
    "\n",
    "\n",
    "### Данные\n",
    "Токенизированные тексты "
   ]
  },
  {
   "cell_type": "code",
   "execution_count": null,
   "metadata": {
    "jupyter": {
     "outputs_hidden": true
    }
   },
   "outputs": [],
   "source": [
    "!unzip hpac_source"
   ]
  },
  {
   "cell_type": "markdown",
   "metadata": {},
   "source": [
    "Посмотрим на предложенные предобработанные тексты:"
   ]
  },
  {
   "cell_type": "code",
   "execution_count": 3,
   "metadata": {},
   "outputs": [
    {
     "name": "stdout",
     "output_type": "stream",
     "text": [
      "3207\n"
     ]
    }
   ],
   "source": [
    "! cat hpac_source/3777622 | wc -w"
   ]
  },
  {
   "cell_type": "markdown",
   "metadata": {},
   "source": [
    "В целом, в предобработанной версии не хватает только лемматизации."
   ]
  },
  {
   "cell_type": "code",
   "execution_count": 5,
   "metadata": {
    "ExecuteTime": {
     "end_time": "2022-11-17T15:50:05.245665Z",
     "start_time": "2022-11-17T15:50:05.235872Z"
    }
   },
   "outputs": [],
   "source": [
    "# Imports \n",
    "\n",
    "import os\n",
    "import pandas as pd\n",
    "import nltk\n",
    "from nltk.corpus.reader.plaintext import PlaintextCorpusReader\n",
    "from nltk.corpus import stopwords\n",
    "from tqdm import tqdm"
   ]
  },
  {
   "cell_type": "code",
   "execution_count": 6,
   "metadata": {
    "ExecuteTime": {
     "end_time": "2022-11-17T15:50:05.800922Z",
     "start_time": "2022-11-17T15:50:05.698162Z"
    }
   },
   "outputs": [
    {
     "name": "stderr",
     "output_type": "stream",
     "text": [
      "[nltk_data] Downloading package wordnet to\n",
      "[nltk_data]     /Users/takkat14/nltk_data...\n",
      "[nltk_data]   Package wordnet is already up-to-date!\n",
      "[nltk_data] Downloading package stopwords to\n",
      "[nltk_data]     /Users/takkat14/nltk_data...\n",
      "[nltk_data]   Package stopwords is already up-to-date!\n",
      "[nltk_data] Downloading package punkt to /Users/takkat14/nltk_data...\n",
      "[nltk_data]   Package punkt is already up-to-date!\n"
     ]
    },
    {
     "data": {
      "text/plain": [
       "(';', ':', ',', '.', '!', '?')"
      ]
     },
     "execution_count": 6,
     "metadata": {},
     "output_type": "execute_result"
    }
   ],
   "source": [
    "nltk.download('wordnet')\n",
    "nltk.download('stopwords')\n",
    "nltk.download('punkt')\n",
    "sent_detector = nltk.data.load('tokenizers/punkt/english.pickle')\n",
    "sent_detector.PUNCTUATION\n"
   ]
  },
  {
   "cell_type": "code",
   "execution_count": 7,
   "metadata": {
    "ExecuteTime": {
     "end_time": "2022-11-17T15:50:19.632804Z",
     "start_time": "2022-11-17T15:50:19.546607Z"
    }
   },
   "outputs": [],
   "source": [
    "path = \"..\"\n",
    "\n",
    "corpdir = path + '/hpac_source/' # Tokenized\n",
    "files = os.listdir(corpdir)\n",
    "\n",
    "hpac_corpus = PlaintextCorpusReader(corpdir, files, sent_tokenizer=sent_detector)"
   ]
  },
  {
   "cell_type": "code",
   "execution_count": 11,
   "metadata": {
    "ExecuteTime": {
     "end_time": "2022-11-17T15:55:22.059008Z",
     "start_time": "2022-11-17T15:55:22.046668Z"
    }
   },
   "outputs": [],
   "source": [
    "from string import punctuation\n",
    "\n",
    "sw = set(stopwords.words(\"english\") \n",
    "         + list(sent_detector.PUNCTUATION)\n",
    "         + list(punctuation) + [\"``\", \"--\", \"n\", \"''\", \"...\"])"
   ]
  },
  {
   "cell_type": "code",
   "execution_count": 13,
   "metadata": {},
   "outputs": [
    {
     "name": "stderr",
     "output_type": "stream",
     "text": [
      "Files: 100%|██████████████████████████████████████████████████████████████████████████████████████████████████████████████████████████████████████████████████████████████████████████████████████████████████████████████████████████████████████████| 36225/36225 [13:20<00:00, 45.25it/s]\n"
     ]
    }
   ],
   "source": [
    "fd_words = nltk.FreqDist()\n",
    "\n",
    "files  = hpac_corpus.fileids()\n",
    "\n",
    "for f in tqdm(files, desc=\"Files\"):\n",
    "    f_words = []\n",
    "    for word in hpac_corpus.words(f):\n",
    "        if word not in sw:\n",
    "            f_words.append(word)\n",
    "    fd_words.update(f_words)"
   ]
  },
  {
   "cell_type": "code",
   "execution_count": 14,
   "metadata": {},
   "outputs": [],
   "source": [
    "import pandas as pd\n",
    "\n",
    "df_w = pd.DataFrame(fd_words.most_common(), columns=[\"word\", \"count\"])\n",
    "df_w.to_csv(\"words_common.csv\", index=None)"
   ]
  },
  {
   "cell_type": "code",
   "execution_count": 16,
   "metadata": {},
   "outputs": [
    {
     "name": "stderr",
     "output_type": "stream",
     "text": [
      "Files: 100%|██████████████████████████████████████████████████████████████████████████████████████████████████████████████████████████████████████████████████████████████████████████████████████████████████████████████████████████████████████████| 36225/36225 [16:49<00:00, 35.87it/s]\n"
     ]
    }
   ],
   "source": [
    "fd_bigrams = nltk.FreqDist()\n",
    "\n",
    "files  = hpac_corpus.fileids()\n",
    "\n",
    "for f in tqdm(files, desc=\"Files\"):\n",
    "    f_words = []\n",
    "    for word in hpac_corpus.words(f):\n",
    "        if word not in sw:\n",
    "            f_words.append(word)\n",
    "    bg = nltk.bigrams(f_words)\n",
    "    fd_bigrams.update(bg)\n"
   ]
  },
  {
   "cell_type": "code",
   "execution_count": 19,
   "metadata": {},
   "outputs": [],
   "source": [
    "df_bigram = pd.DataFrame(fd_bigrams.most_common(), columns=[\"bigram\", \"freq\"])\n",
    "df_bigram.to_csv(\"bigram_common.csv\", index=None)"
   ]
  },
  {
   "cell_type": "code",
   "execution_count": 39,
   "metadata": {
    "ExecuteTime": {
     "end_time": "2022-11-17T18:53:31.452758Z",
     "start_time": "2022-11-17T18:02:38.922176Z"
    }
   },
   "outputs": [
    {
     "data": {
      "application/vnd.jupyter.widget-view+json": {
       "model_id": "d3d91804cfd34ad6a512105af2fb945a",
       "version_major": 2,
       "version_minor": 0
      },
      "text/plain": [
       "Files:   0%|          | 0/36225 [00:00<?, ?it/s]"
      ]
     },
     "metadata": {},
     "output_type": "display_data"
    }
   ],
   "source": [
    "fd_3gram = nltk.FreqDist()\n",
    "\n",
    "files  = hpac_corpus.fileids()\n",
    "\n",
    "for f in tqdm(files, desc=\"Files\"):\n",
    "    for sent in hpac_corpus.sents(f):\n",
    "        f_words = []\n",
    "        flag = False\n",
    "        for word in sent:\n",
    "            if word not in sw:\n",
    "                f_words.append(word)\n",
    "            if word == \"professor\":\n",
    "                flag = True\n",
    "        if flag:\n",
    "            ng = nltk.ngrams(f_words, 3)\n",
    "            fd_3gram.update(ng)"
   ]
  },
  {
   "cell_type": "code",
   "execution_count": 43,
   "metadata": {
    "ExecuteTime": {
     "end_time": "2022-11-17T19:01:32.516265Z",
     "start_time": "2022-11-17T19:01:31.747549Z"
    }
   },
   "outputs": [],
   "source": [
    "df = pd.DataFrame(fd_3gram.most_common(), columns=[\"three_gram\", \"freq\"])"
   ]
  },
  {
   "cell_type": "code",
   "execution_count": 45,
   "metadata": {
    "ExecuteTime": {
     "end_time": "2022-11-17T19:02:27.961083Z",
     "start_time": "2022-11-17T19:02:24.989016Z"
    }
   },
   "outputs": [],
   "source": [
    "df.to_csv(\"three_gram_common.csv\", index=None)"
   ]
  },
  {
   "cell_type": "code",
   "execution_count": 108,
   "metadata": {
    "ExecuteTime": {
     "end_time": "2022-11-17T21:05:39.851104Z",
     "start_time": "2022-11-17T21:05:39.827208Z"
    }
   },
   "outputs": [],
   "source": [
    "names = [\"Tom Riddle\",\n",
    "\"Hannah Abbott\",\n",
    "\"Ludo Bagman\",\n",
    "\"Bathilda Bagshot\",\n",
    "\"Katie Bell\",\n",
    "\"Cuthbert Binns\",\n",
    "\"Phineas Nigellus Black\",\n",
    "\"Sirius Black\",\n",
    "\"Walburga Black\",\n",
    "\"Amelia Bones\",\n",
    "\"Susan Bones\",\n",
    "\"Terry Boot\",\n",
    "\"Lavender Brown\",\n",
    "\"Millicent Bulstrode\",\n",
    "\"Charity Burbage\",\n",
    "\"Frank Bryce\",\n",
    "\"Alecto Carrow\",\n",
    "\"Amycus Carrow\",\n",
    "\"Reginald Cattermole\",\n",
    "\"Mary Cattermole\",\n",
    "\"Cho Chang\",\n",
    "\"Penelope Clearwater\",\n",
    "\"Mrs. Cole\",\n",
    "\"Michael Corner\",\n",
    "\"Crabbe\",\n",
    "\"Vincent Crabbe\",\n",
    "\"Colin Creevey\",\n",
    "\"Dennis Creevey\",\n",
    "\"Dirk Cresswell\",\n",
    "\"Barty Crouch Sr\",\n",
    "\"Barty Crouch Jr\",\n",
    "\"Roger Davies\",\n",
    "\"John Dawlish\",\n",
    "\"Fleur Delacour\",\n",
    "\"Gabrielle Delacour\",\n",
    "\"Dedalus Diggle\",\n",
    "\"Amos Diggory\",\n",
    "\"Cedric Diggory\",\n",
    "\"Elphias Doge\",\n",
    "\"Antonin Dolohov\",\n",
    "\"Aberforth Dumbledore\",\n",
    "\"Albus Dumbledore\",\n",
    "\"Ariana Dumbledore\",\n",
    "\"Kendra Dumbledore\",\n",
    "\"Percival Dumbledore\",\n",
    "\"Dudley Dursley\",\n",
    "\"Marge Dursley\",\n",
    "\"Petunia Dursley\",\n",
    "\"Vernon Dursley\",\n",
    "\"Marietta Edgecombe\",\n",
    "\"Arabella Figg\",\n",
    "\"Argus Filch\",\n",
    "\"Justin Finch-Fletchley\",\n",
    "\"Seamus Finnigan\",\n",
    "\"Marcus Flint\",\n",
    "\"Mundungus Fletcher\",\n",
    "\"Filius Flitwick\",\n",
    "\"Florean Fortescue\",\n",
    "\"Cornelius Fudge\",\n",
    "\"Marvolo Gaunt\",\n",
    "\"Merope Gaunt\",\n",
    "\"Morfin Gaunt\",\n",
    "\"Anthony Goldstein\",\n",
    "\"Goyle\",\n",
    "\"Gregory Goyle\",\n",
    "\"Hermione Granger\",\n",
    "\"Gregorovitch\",\n",
    "\"Fenrir Greyback\",\n",
    "\"Gellert Grindelwald\",\n",
    "\"Wilhelmina Grubbly-Plank\",\n",
    "\"Rubeus Hagrid\",\n",
    "\"Rolanda Hooch\",\n",
    "\"Mafalda Hopkirk\",\n",
    "\"Angelina Johnson\",\n",
    "\"Lee Jordan\",\n",
    "\"Igor Karkaroff\",\n",
    "\"Viktor Krum\",\n",
    "\"Silvanus Kettleburn\",\n",
    "\"Bellatrix Lestrange\",\n",
    "\"Rabastan Lestrange\",\n",
    "\"Rodolphus Lestrange\",\n",
    "\"Gilderoy Lockhart\",\n",
    "\"Alice and Frank Longbottom\",\n",
    "\"Augusta Longbottom\",\n",
    "\"Neville Longbottom\",\n",
    "\"Luna Lovegood\",\n",
    "\"Xenophilius Lovegood\",\n",
    "\"Remus Lupin\",\n",
    "\"Teddy Lupin\",\n",
    "\"Walden Macnair\",\n",
    "\"Draco Malfoy\",\n",
    "\"Lucius Malfoy\",\n",
    "\"Narcissa Malfoy\",\n",
    "\"Scorpius Malfoy\",\n",
    "\"Madam Malkin\",\n",
    "\"Griselda Marchbanks\",\n",
    "\"Olympe Maxime\",\n",
    "\"Ernie Macmillan\",\n",
    "\"Minerva McGonagall\",\n",
    "\"Cormac McLaggen\",\n",
    "\"Graham Montague\",\n",
    "\"Alastor (Mad-Eye) Moody\",\n",
    "\"Theodore Nott\",\n",
    "\"Bob Ogden\",\n",
    "\"Garrick Ollivander\",\n",
    "\"Pansy Parkinson\",\n",
    "\"Padma Patil\",\n",
    "\"Parvati Patil\",\n",
    "\"Peter Pettigrew\",\n",
    "\"Antioch\",\n",
    "\"Irma Pince\",\n",
    "\"Sturgis Podmore\",\n",
    "\"Poppy Pomfrey\",\n",
    "\"Harry Potter\",\n",
    "\"James Potter\",\n",
    "\"Lily Potter\",\n",
    "\"Albus Severus Potter\",\n",
    "\"James Sirius Potter\",\n",
    "\"Lily Luna Potter\",\n",
    "\"Quirinus Quirrell\",\n",
    "\"Helena Ravenclaw/The Grey Lady\",\n",
    "\"Mary Riddle\",\n",
    "\"Thomas Riddle Sr.\",\n",
    "\"Thomas Riddle Jr.\",\n",
    "\"Thomas Marvolo Riddle\",\n",
    "\"Demelza Robins\",\n",
    "\"Augustus Rookwood\",\n",
    "\"Thorfinn Rowle\",\n",
    "\"Albert Runcorn\",\n",
    "\"Newt Scamander\",\n",
    "\"Rufus Scrimgeour\",\n",
    "\"Kingsley Shacklebolt\",\n",
    "\"Stan Shunpike\",\n",
    "\"Aurora Sinistra\",\n",
    "\"Rita Skeeter\",\n",
    "\"Horace Slughorn\",\n",
    "\"Salazar Slytherin\",\n",
    "\"Zacharias Smith\",\n",
    "\"Severus Snape\",\n",
    "\"Alicia Spinnet\",\n",
    "\"Pomona Sprout\",\n",
    "\"Pius Thicknesse\",\n",
    "\"Dean Thomas\",\n",
    "\"Andromeda Tonks\",\n",
    "\"Nymphadora Tonks\",\n",
    "\"Ted Tonks\",\n",
    "\"Sybill Trelawney\",\n",
    "\"Wilkie Twycross\",\n",
    "\"Dolores Umbridge\",\n",
    "\"Emmeline Vance\",\n",
    "\"Romilda Vane\",\n",
    "\"Septima Vector\",\n",
    "\"Lord Voldemort\",\n",
    "\"Myrtle Warren\",\n",
    "\"Moaning Myrtle\",\n",
    "\"Arthur Weasley\",\n",
    "\"Bill Weasley\",\n",
    "\"Charlie Weasley\",\n",
    "\"Fred Weasley\",\n",
    "\"George Weasley\",\n",
    "\"Ginny Weasley\",\n",
    "\"Hugo Weasley\",\n",
    "\"Molly Weasley\",\n",
    "\"Percy Weasley\",\n",
    "\"Ron Weasley\",\n",
    "\"Oliver Wood\",\n",
    "\"Rose Weasley\",\n",
    "\"Corban Yaxley\",\n",
    "\"Blaise Zabini\",\n",
    "\"Aragog\",\n",
    "\"Bane\",\n",
    "\"Beedle the Bard\",\n",
    "\"The Bloody Baron\",\n",
    "\"Bogrod\",\n",
    "\"Buckbeak\",\n",
    "\"Sir Cadogan\",\n",
    "\"Crookshanks\",\n",
    "\"Dobby\",\n",
    "\"Errol\",\n",
    "\"Fang\",\n",
    "\"The Fat Friar\",\n",
    "\"The Fat Lady\",\n",
    "\"Fawkes\",\n",
    "\"Firenze\",\n",
    "\"Fluffy\",\n",
    "\"Gornuk\",\n",
    "\"Grawp\",\n",
    "\"Griphook\",\n",
    "\"Hedwig\",\n",
    "\"Hokey\",\n",
    "\"Kreacher\",\n",
    "\"Magorian\",\n",
    "\"Great Aunt Muriel\",\n",
    "\"Nagini\",\n",
    "\"Nearly Headless Nick\",\n",
    "\"Norbert\",\n",
    "\"Peeves\",\n",
    "\"Pigwidgeon\",\n",
    "\"Madam Rosmerta\",\n",
    "\"Ronan\",\n",
    "\"Scabbers\",\n",
    "\"Scabior\",\n",
    "\"Travers\",\n",
    "\"Trevor\",\n",
    "\"Winky\"]"
   ]
  },
  {
   "cell_type": "code",
   "execution_count": 109,
   "metadata": {
    "ExecuteTime": {
     "end_time": "2022-11-17T21:05:40.510615Z",
     "start_time": "2022-11-17T21:05:40.241500Z"
    }
   },
   "outputs": [
    {
     "data": {
      "text/html": [
       "<div>\n",
       "<style scoped>\n",
       "    .dataframe tbody tr th:only-of-type {\n",
       "        vertical-align: middle;\n",
       "    }\n",
       "\n",
       "    .dataframe tbody tr th {\n",
       "        vertical-align: top;\n",
       "    }\n",
       "\n",
       "    .dataframe thead th {\n",
       "        text-align: right;\n",
       "    }\n",
       "</style>\n",
       "<table border=\"1\" class=\"dataframe\">\n",
       "  <thead>\n",
       "    <tr style=\"text-align: right;\">\n",
       "      <th></th>\n",
       "      <th>word</th>\n",
       "      <th>count</th>\n",
       "    </tr>\n",
       "  </thead>\n",
       "  <tbody>\n",
       "    <tr>\n",
       "      <th>0</th>\n",
       "      <td>harry</td>\n",
       "      <td>4000496</td>\n",
       "    </tr>\n",
       "    <tr>\n",
       "      <th>1</th>\n",
       "      <td>hermione</td>\n",
       "      <td>1831472</td>\n",
       "    </tr>\n",
       "    <tr>\n",
       "      <th>2</th>\n",
       "      <td>draco</td>\n",
       "      <td>1389977</td>\n",
       "    </tr>\n",
       "    <tr>\n",
       "      <th>3</th>\n",
       "      <td>ron</td>\n",
       "      <td>906196</td>\n",
       "    </tr>\n",
       "    <tr>\n",
       "      <th>4</th>\n",
       "      <td>severus</td>\n",
       "      <td>655654</td>\n",
       "    </tr>\n",
       "    <tr>\n",
       "      <th>5</th>\n",
       "      <td>ginny</td>\n",
       "      <td>639546</td>\n",
       "    </tr>\n",
       "    <tr>\n",
       "      <th>6</th>\n",
       "      <td>sirius</td>\n",
       "      <td>630217</td>\n",
       "    </tr>\n",
       "    <tr>\n",
       "      <th>7</th>\n",
       "      <td>james</td>\n",
       "      <td>468947</td>\n",
       "    </tr>\n",
       "    <tr>\n",
       "      <th>8</th>\n",
       "      <td>james</td>\n",
       "      <td>468947</td>\n",
       "    </tr>\n",
       "    <tr>\n",
       "      <th>9</th>\n",
       "      <td>remus</td>\n",
       "      <td>433776</td>\n",
       "    </tr>\n",
       "  </tbody>\n",
       "</table>\n",
       "</div>"
      ],
      "text/plain": [
       "       word    count\n",
       "0     harry  4000496\n",
       "1  hermione  1831472\n",
       "2     draco  1389977\n",
       "3       ron   906196\n",
       "4   severus   655654\n",
       "5     ginny   639546\n",
       "6    sirius   630217\n",
       "7     james   468947\n",
       "8     james   468947\n",
       "9     remus   433776"
      ]
     },
     "execution_count": 109,
     "metadata": {},
     "output_type": "execute_result"
    }
   ],
   "source": [
    "df = pd.read_csv(\"words_common.csv\")\n",
    "\n",
    "df1 = pd.DataFrame(names, columns=[\"name\"])\n",
    "df1[['Name', 'surname']] =  df1['name'].str.split(' ', 1, expand=True)\n",
    "df1['word'] = df1['Name'].str.lower()\n",
    "df1['surname'] = df1['surname'].str.lower()\n",
    "df3 = pd.merge(df,df1,on='word').head(10)\n",
    "names = df3[['word', 'count']]\n",
    "names"
   ]
  },
  {
   "cell_type": "code",
   "execution_count": 113,
   "metadata": {
    "ExecuteTime": {
     "end_time": "2022-11-17T21:08:20.078410Z",
     "start_time": "2022-11-17T21:08:20.003887Z"
    }
   },
   "outputs": [
    {
     "data": {
      "text/html": [
       "<div>\n",
       "<style scoped>\n",
       "    .dataframe tbody tr th:only-of-type {\n",
       "        vertical-align: middle;\n",
       "    }\n",
       "\n",
       "    .dataframe tbody tr th {\n",
       "        vertical-align: top;\n",
       "    }\n",
       "\n",
       "    .dataframe thead th {\n",
       "        text-align: right;\n",
       "    }\n",
       "</style>\n",
       "<table border=\"1\" class=\"dataframe\">\n",
       "  <thead>\n",
       "    <tr style=\"text-align: right;\">\n",
       "      <th></th>\n",
       "      <th>name_full</th>\n",
       "      <th>freq</th>\n",
       "    </tr>\n",
       "  </thead>\n",
       "  <tbody>\n",
       "    <tr>\n",
       "      <th>0</th>\n",
       "      <td>harry potter</td>\n",
       "      <td>135085</td>\n",
       "    </tr>\n",
       "    <tr>\n",
       "      <th>1</th>\n",
       "      <td>draco malfoy</td>\n",
       "      <td>50640</td>\n",
       "    </tr>\n",
       "    <tr>\n",
       "      <th>2</th>\n",
       "      <td>severus snape</td>\n",
       "      <td>33300</td>\n",
       "    </tr>\n",
       "    <tr>\n",
       "      <th>3</th>\n",
       "      <td>hermione granger</td>\n",
       "      <td>32156</td>\n",
       "    </tr>\n",
       "    <tr>\n",
       "      <th>4</th>\n",
       "      <td>james potter</td>\n",
       "      <td>29386</td>\n",
       "    </tr>\n",
       "    <tr>\n",
       "      <th>5</th>\n",
       "      <td>sirius black</td>\n",
       "      <td>28170</td>\n",
       "    </tr>\n",
       "    <tr>\n",
       "      <th>6</th>\n",
       "      <td>lord voldemort</td>\n",
       "      <td>27667</td>\n",
       "    </tr>\n",
       "    <tr>\n",
       "      <th>7</th>\n",
       "      <td>lucius malfoy</td>\n",
       "      <td>25193</td>\n",
       "    </tr>\n",
       "    <tr>\n",
       "      <th>8</th>\n",
       "      <td>albus dumbledore</td>\n",
       "      <td>22530</td>\n",
       "    </tr>\n",
       "    <tr>\n",
       "      <th>9</th>\n",
       "      <td>tom riddle</td>\n",
       "      <td>19046</td>\n",
       "    </tr>\n",
       "  </tbody>\n",
       "</table>\n",
       "</div>"
      ],
      "text/plain": [
       "          name_full    freq\n",
       "0      harry potter  135085\n",
       "1      draco malfoy   50640\n",
       "2     severus snape   33300\n",
       "3  hermione granger   32156\n",
       "4      james potter   29386\n",
       "5      sirius black   28170\n",
       "6    lord voldemort   27667\n",
       "7     lucius malfoy   25193\n",
       "8  albus dumbledore   22530\n",
       "9        tom riddle   19046"
      ]
     },
     "execution_count": 113,
     "metadata": {},
     "output_type": "execute_result"
    }
   ],
   "source": [
    "dff = pd.read_csv(\"bigram_normal.csv\")\n",
    "\n",
    "dff[\"name_full\"] = dff[\"name\"].astype(str) + \" \" + dff[\"surname\"].astype(str)\n",
    "df1['name_full'] = df1['name'].str.lower()\n",
    "df4 = pd.merge(dff,df1,on='name_full').head(10)\n",
    "names1 = df4[['name_full', 'freq']]\n",
    "names1"
   ]
  },
  {
   "cell_type": "code",
   "execution_count": 121,
   "metadata": {
    "ExecuteTime": {
     "end_time": "2022-11-17T21:11:46.484789Z",
     "start_time": "2022-11-17T21:11:46.423585Z"
    }
   },
   "outputs": [
    {
     "data": {
      "text/html": [
       "<div>\n",
       "<style scoped>\n",
       "    .dataframe tbody tr th:only-of-type {\n",
       "        vertical-align: middle;\n",
       "    }\n",
       "\n",
       "    .dataframe tbody tr th {\n",
       "        vertical-align: top;\n",
       "    }\n",
       "\n",
       "    .dataframe thead th {\n",
       "        text-align: right;\n",
       "    }\n",
       "</style>\n",
       "<table border=\"1\" class=\"dataframe\">\n",
       "  <thead>\n",
       "    <tr style=\"text-align: right;\">\n",
       "      <th></th>\n",
       "      <th>name_x</th>\n",
       "      <th>name_full</th>\n",
       "      <th>freq</th>\n",
       "    </tr>\n",
       "  </thead>\n",
       "  <tbody>\n",
       "    <tr>\n",
       "      <th>0</th>\n",
       "      <td>professor</td>\n",
       "      <td>snape</td>\n",
       "      <td>46279</td>\n",
       "    </tr>\n",
       "    <tr>\n",
       "      <th>1</th>\n",
       "      <td>professor</td>\n",
       "      <td>mcgonagall</td>\n",
       "      <td>43219</td>\n",
       "    </tr>\n",
       "    <tr>\n",
       "      <th>2</th>\n",
       "      <td>professor</td>\n",
       "      <td>dumbledore</td>\n",
       "      <td>24520</td>\n",
       "    </tr>\n",
       "    <tr>\n",
       "      <th>7</th>\n",
       "      <td>professor</td>\n",
       "      <td>lupin</td>\n",
       "      <td>10199</td>\n",
       "    </tr>\n",
       "    <tr>\n",
       "      <th>9</th>\n",
       "      <td>professor</td>\n",
       "      <td>flitwick</td>\n",
       "      <td>9589</td>\n",
       "    </tr>\n",
       "    <tr>\n",
       "      <th>10</th>\n",
       "      <td>professor</td>\n",
       "      <td>slughorn</td>\n",
       "      <td>5914</td>\n",
       "    </tr>\n",
       "    <tr>\n",
       "      <th>11</th>\n",
       "      <td>professor</td>\n",
       "      <td>sprout</td>\n",
       "      <td>5803</td>\n",
       "    </tr>\n",
       "    <tr>\n",
       "      <th>12</th>\n",
       "      <td>professor</td>\n",
       "      <td>trelawney</td>\n",
       "      <td>3200</td>\n",
       "    </tr>\n",
       "    <tr>\n",
       "      <th>13</th>\n",
       "      <td>professor</td>\n",
       "      <td>umbridge</td>\n",
       "      <td>2923</td>\n",
       "    </tr>\n",
       "    <tr>\n",
       "      <th>14</th>\n",
       "      <td>professor</td>\n",
       "      <td>longbottom</td>\n",
       "      <td>2401</td>\n",
       "    </tr>\n",
       "  </tbody>\n",
       "</table>\n",
       "</div>"
      ],
      "text/plain": [
       "       name_x   name_full   freq\n",
       "0   professor       snape  46279\n",
       "1   professor  mcgonagall  43219\n",
       "2   professor  dumbledore  24520\n",
       "7   professor       lupin  10199\n",
       "9   professor    flitwick   9589\n",
       "10  professor    slughorn   5914\n",
       "11  professor      sprout   5803\n",
       "12  professor   trelawney   3200\n",
       "13  professor    umbridge   2923\n",
       "14  professor  longbottom   2401"
      ]
     },
     "execution_count": 121,
     "metadata": {},
     "output_type": "execute_result"
    }
   ],
   "source": [
    "dff = pd.read_csv(\"bigram_normal.csv\")\n",
    "\n",
    "dff = dff[dff[\"name\"] == \"professor\"]\n",
    "dff[\"name_full\"] = dff[\"surname\"].astype(str)\n",
    "df1['name_full'] = df1['surname'].str.lower()\n",
    "df4 = pd.merge(dff,df1,on='name_full')\n",
    "names1 = df4[['name_x', 'name_full', 'freq']]\n",
    "names1.drop_duplicates().head(10)"
   ]
  },
  {
   "cell_type": "markdown",
   "metadata": {},
   "source": [
    "## Часть 2. [2 балла] Модели представления слов \n",
    "Обучите модель представления слов (word2vec, GloVe, fastText или любую другую) на материале корпуса HPAC.\n",
    "1. Продемонстрируйте, как работает поиск синонимов, ассоциаций, лишних слов в обученной модели. \n",
    "2. Визуализируйте топ-1000 слов по частоте без учета стоп-слов (п. 1.1) с помощью TSNE или UMAP (https://umap-learn.readthedocs.io)."
   ]
  },
  {
   "cell_type": "code",
   "execution_count": 10,
   "metadata": {
    "ExecuteTime": {
     "end_time": "2022-11-17T15:51:17.476671Z",
     "start_time": "2022-11-17T15:51:17.384438Z"
    }
   },
   "outputs": [],
   "source": [
    "import fasttext"
   ]
  },
  {
   "cell_type": "code",
   "execution_count": 14,
   "metadata": {
    "ExecuteTime": {
     "end_time": "2022-11-17T16:47:55.258482Z",
     "start_time": "2022-11-17T15:57:27.464891Z"
    }
   },
   "outputs": [
    {
     "data": {
      "application/vnd.jupyter.widget-view+json": {
       "model_id": "67bdb8ea6c3b4179b0c17e382068c530",
       "version_major": 2,
       "version_minor": 0
      },
      "text/plain": [
       "  0%|          | 0/36225 [00:00<?, ?it/s]"
      ]
     },
     "metadata": {},
     "output_type": "display_data"
    }
   ],
   "source": [
    "# Так как фасттекст не умеет принимать много файликов, нам придется написать все в один большой\n",
    "from tqdm.notebook import tqdm\n",
    "\n",
    "with open(\"train_fasttext_unsupervised.txt\", \"w\") as f:\n",
    "    for f_idx in tqdm(hpac_corpus.fileids()):\n",
    "        for sent in hpac_corpus.sents(f_idx):\n",
    "            res = []\n",
    "            for word in sent:\n",
    "                if word not in sw:\n",
    "                    res.append(word)\n",
    "            f.write(\" \".join(res) + \"\\n\")\n",
    "            "
   ]
  },
  {
   "cell_type": "code",
   "execution_count": 15,
   "metadata": {
    "ExecuteTime": {
     "end_time": "2022-11-17T17:28:25.233957Z",
     "start_time": "2022-11-17T16:55:04.859547Z"
    }
   },
   "outputs": [
    {
     "name": "stderr",
     "output_type": "stream",
     "text": [
      "Read 281M words\n",
      "Number of words:  115521\n",
      "Number of labels: 0\n",
      "Progress: 100.0% words/sec/thread:  101494 lr:  0.000000 avg.loss:  0.323214 ETA:   0h 0m 0s  0.3% words/sec/thread:  105418 lr:  0.049871 avg.loss:  2.028804 ETA:   0h31m42s 10.1% words/sec/thread:  107406 lr:  0.044969 avg.loss:  1.619996 ETA:   0h28m 4s 11.1% words/sec/thread:  107505 lr:  0.044451 avg.loss:  1.509810 ETA:   0h27m43s 12.7% words/sec/thread:  107154 lr:  0.043675 avg.loss:  1.379543 ETA:   0h27m19s 12.7% words/sec/thread:  107180 lr:  0.043642 avg.loss:  1.374712 ETA:   0h27m17s 14.1% words/sec/thread:  106753 lr:  0.042935 avg.loss:  1.282834 ETA:   0h26m57s 18.1% words/sec/thread:  104442 lr:  0.040961 avg.loss:  1.095284 ETA:   0h26m17s102353 lr:  0.033267 avg.loss:  0.772497 ETA:   0h21m47s 34.0% words/sec/thread:  102342 lr:  0.033002 avg.loss:  0.767093 ETA:   0h21m37s40s 37.5% words/sec/thread:  102598 lr:  0.031252 avg.loss:  0.733277 ETA:   0h20m25s 38.6% words/sec/thread:  102677 lr:  0.030693 avg.loss:  0.722643 ETA:   0h20m 2s 39.8% words/sec/thread:  102693 lr:  0.030112 avg.loss:  0.712774 ETA:   0h19m39s 52.3% words/sec/thread:  101608 lr:  0.023866 avg.loss:  0.607970 ETA:   0h15m44s% words/sec/thread:  101719 lr:  0.022752 avg.loss:  0.583761 ETA:   0h14m59s 62.7% words/sec/thread:  101479 lr:  0.018640 avg.loss:  0.508232 ETA:   0h12m18s 64.7% words/sec/thread:  101429 lr:  0.017657 avg.loss:  0.492764 ETA:   0h11m40s  0h 7m59s 101465 lr:  0.006766 avg.loss:  0.371860 ETA:   0h 4m28s101452 lr:  0.006418 avg.loss:  0.368980 ETA:   0h 4m14s 96.4% words/sec/thread:  101756 lr:  0.001780 avg.loss:  0.334526 ETA:   0h 1m10s 97.1% words/sec/thread:  101796 lr:  0.001467 avg.loss:  0.332542 ETA:   0h 0m57s 97.2% words/sec/thread:  101796 lr:  0.001421 avg.loss:  0.332261 ETA:   0h 0m56s\n"
     ]
    }
   ],
   "source": [
    "model = fasttext.train_unsupervised(\"train_fasttext_unsupervised.txt\")"
   ]
  },
  {
   "cell_type": "code",
   "execution_count": 16,
   "metadata": {
    "ExecuteTime": {
     "end_time": "2022-11-17T17:30:22.284902Z",
     "start_time": "2022-11-17T17:30:20.748325Z"
    }
   },
   "outputs": [],
   "source": [
    "model.save_model(\"word_reprs_fasttext.bin\")"
   ]
  },
  {
   "cell_type": "code",
   "execution_count": 46,
   "metadata": {
    "ExecuteTime": {
     "end_time": "2022-11-17T19:03:09.049051Z",
     "start_time": "2022-11-17T19:03:07.802135Z"
    }
   },
   "outputs": [
    {
     "name": "stderr",
     "output_type": "stream",
     "text": [
      "Warning : `load_model` does not return WordVectorModel or SupervisedModel any more, but a `FastText` object which is very similar.\n"
     ]
    }
   ],
   "source": [
    "m = fasttext.load_model(\"word_reprs_fasttext.bin\")"
   ]
  },
  {
   "cell_type": "code",
   "execution_count": 22,
   "metadata": {
    "ExecuteTime": {
     "end_time": "2022-11-17T17:33:13.957472Z",
     "start_time": "2022-11-17T17:33:13.923692Z"
    }
   },
   "outputs": [
    {
     "data": {
      "text/plain": [
       "[(0.8982186913490295, 'ginny'),\n",
       " (0.8506463170051575, 'harry'),\n",
       " (0.8416748642921448, 'hermoine'),\n",
       " (0.8299306631088257, 'hermioe'),\n",
       " (0.8274727463722229, 'ron'),\n",
       " (0.8269855976104736, 'draco'),\n",
       " (0.8113459944725037, 'hermioned'),\n",
       " (0.8035032749176025, 'hermoini'),\n",
       " (0.7988803386688232, 'hermoione'),\n",
       " (0.791758120059967, 'angeline')]"
      ]
     },
     "execution_count": 22,
     "metadata": {},
     "output_type": "execute_result"
    }
   ],
   "source": [
    "model.get_nearest_neighbors(\"hermione\")"
   ]
  },
  {
   "cell_type": "code",
   "execution_count": 19,
   "metadata": {
    "ExecuteTime": {
     "end_time": "2022-11-17T17:32:29.538894Z",
     "start_time": "2022-11-17T17:32:28.723394Z"
    }
   },
   "outputs": [
    {
     "data": {
      "text/plain": [
       "[(0.7383075952529907, 'malfoy'),\n",
       " (0.7059000730514526, 'evans'),\n",
       " (0.6878269910812378, 'granger'),\n",
       " (0.6815556287765503, 'harry'),\n",
       " (0.6704530119895935, 'pottter'),\n",
       " (0.6665982007980347, 'mafloy'),\n",
       " (0.6570631861686707, 'scarhead'),\n",
       " (0.6561027765274048, 'harrison'),\n",
       " (0.6526221632957458, 'weasleby'),\n",
       " (0.6480754017829895, 'ronald')]"
      ]
     },
     "execution_count": 19,
     "metadata": {},
     "output_type": "execute_result"
    }
   ],
   "source": [
    "model.get_nearest_neighbors(\"potter\")"
   ]
  },
  {
   "cell_type": "code",
   "execution_count": 89,
   "metadata": {
    "ExecuteTime": {
     "end_time": "2022-11-17T20:49:40.289292Z",
     "start_time": "2022-11-17T20:49:40.087399Z"
    }
   },
   "outputs": [
    {
     "data": {
      "text/plain": [
       "[(0.6387074589729309, 'foreplay'),\n",
       " (0.6072849631309509, 'consensually'),\n",
       " (0.601814866065979, 'nymphomaniac'),\n",
       " (0.6000763177871704, 'consensual'),\n",
       " (0.5878664255142212, 'kinky'),\n",
       " (0.5850690603256226, 'torture'),\n",
       " (0.5845490097999573, 'pleasures'),\n",
       " (0.5831889510154724, 'orgies'),\n",
       " (0.5822985172271729, 'sadism'),\n",
       " (0.5783318877220154, 'sodomy')]"
      ]
     },
     "execution_count": 89,
     "metadata": {},
     "output_type": "execute_result"
    }
   ],
   "source": [
    "# Самое важное на самом деле\n",
    "\n",
    "model.get_analogies(\"bella\", \"hermione\", \"sex\")"
   ]
  },
  {
   "cell_type": "code",
   "execution_count": 48,
   "metadata": {
    "ExecuteTime": {
     "end_time": "2022-11-17T19:25:37.707149Z",
     "start_time": "2022-11-17T19:25:37.483210Z"
    }
   },
   "outputs": [],
   "source": [
    "most_common = pd.read_csv(\"words_common.csv\")"
   ]
  },
  {
   "cell_type": "code",
   "execution_count": null,
   "metadata": {
    "ExecuteTime": {
     "end_time": "2022-11-17T19:30:37.386450Z",
     "start_time": "2022-11-17T19:30:28.538486Z"
    }
   },
   "outputs": [],
   "source": [
    "from sklearn.manifold import TSNE\n",
    "import numpy as np\n",
    "\n",
    "vectors = []\n",
    "labels = []\n",
    "\n",
    "for word in most_common.iloc[:1000, 0]:\n",
    "    vectors.append(model.get_word_vector(word))\n",
    "    labels.append(word)\n",
    "\n",
    "vectors = np.asarray(vectors)\n",
    "labels = np.asarray(labels)\n",
    "\n",
    "tsne = TSNE(n_components=2, random_state=0XDEAD, n_iter=3000, perplexity=10, verbose=10)\n",
    "vectors = tsne.fit_transform(vectors)"
   ]
  },
  {
   "cell_type": "code",
   "execution_count": 57,
   "metadata": {
    "ExecuteTime": {
     "end_time": "2022-11-17T19:39:40.092225Z",
     "start_time": "2022-11-17T19:39:39.563372Z"
    }
   },
   "outputs": [
    {
     "data": {
      "image/png": "[encoded data removed]",
      "text/plain": [
       "<Figure size 1440x1440 with 1 Axes>"
      ]
     },
     "metadata": {
      "needs_background": "light"
     },
     "output_type": "display_data"
    }
   ],
   "source": [
    "import matplotlib.pyplot as plt\n",
    "\n",
    "plt.figure(figsize=(20, 20))\n",
    "plt.scatter(vectors[:, 0], vectors[:, 1], c='red', edgecolors='purple')\n",
    "\n",
    "for i, (label, x, y) in enumerate(zip(labels, vectors[:, 0], vectors[:, 1])):\n",
    "    if i % 8 == 0:\n",
    "        plt.annotate(label, xy=(x + 1, y + 1), xytext=(0, 0), textcoords='offset points')\n",
    "plt.show()"
   ]
  },
  {
   "cell_type": "markdown",
   "metadata": {},
   "source": [
    "## Часть 3. [5 баллов] Классификация текстов\n",
    "Задача классификации формулируется так: данный фрагмент фанфика описывают какую-то ситуацию, которая предшествует произнесению заклинания. Требуется по тексту предсказать, какое именно заклинание будет произнесено. Таким образом, заклинание - это фактически метка класса. Основная мера качества – macro $F_1$.\n",
    "Обучите несколько классификаторов и сравните их между собой. Оцените качество классификаторов на частых и редких классах. Какие классы чаще всего оказываются перепутаны? Связаны ли ошибки со смыслом заклинаний?\n",
    "\n",
    "Используйте фрагменты из множества train для обучения, из множества dev для отладки, из множества test – для тестирования и получения итоговых результатов. \n",
    "\n",
    "1. [1 балл] Используйте fastText в качестве baseline-классификатора.\n",
    "2. [2 балла] Используйте сверточные  или реккурентные сети в качестве более продвинутого классификатора. Поэкспериментируйте с количеством и размерностью фильтров, используйте разные размеры окон, попробуйте использовать $k$-max pooling. \n",
    "3. [2 балла] Попробуйте расширить обучающее множество за счет аугментации данных. Если вам понадобится словарь синонимов, можно использовать WordNet (ниже вы найдете примеры).\n",
    "\n",
    "[бонус] Используйте результат max pooling'а как эмбеддинг входного текста. Визуализируйте эмбеддинги 500-1000 предложений из обучающего множества и изучите свойства получившегося пространства.\n",
    "\n",
    "[бонус] Используйте ваш любимый классификатор и любые (честные) способы повышения качества классификации и получите macro $F_1$ больше 0.5."
   ]
  },
  {
   "cell_type": "code",
   "execution_count": null,
   "metadata": {},
   "outputs": [],
   "source": [
    "import pandas as pd\n",
    "\n",
    "train_df = pd.read_csv(\"hpac_corpus/hpac_training_128.tsv\", sep=\"\\t\", header=None, names=[\"score\", \"spell\", \"sent\"])\n",
    "dev_df = pd.read_csv(\"hpac_corpus/hpac_dev_128.tsv\", sep=\"\\t\", header=None, names=[\"score\", \"spell\", \"sent\"])\n",
    "test_df = pd.read_csv(\"hpac_corpus/hpac_test_128.tsv\", sep=\"\\t\", header=None, names=[\"score\", \"spell\", \"sent\"])\n"
   ]
  },
  {
   "cell_type": "code",
   "execution_count": null,
   "metadata": {},
   "outputs": [],
   "source": [
    "from nltk.tokenize import RegexpTokenizer\n",
    "from string import punctuation\n",
    "\n",
    "def create_fasttext_dataset(df, dataset_type='train'):\n",
    "    df[\"spell\"] =  \"__label__\" + df[\"spell\"]\n",
    "    punct = set(list(punctuation) + [\"``\", \"--\", \"n\", \"''\", \"...\"])\n",
    "\n",
    "    tokenizer = RegexpTokenizer(r\"\\w+\")\n",
    "    def preprocess_sent(s):\n",
    "        tokens = tokenizer.tokenize(s)\n",
    "        res = []\n",
    "        for tok in tokens:\n",
    "            if tok not in punct:\n",
    "                res.append(tok)\n",
    "        return \" \".join(res)\n",
    "    df[\"preprocess_sent\"] = df[\"sent\"].apply(preprocess_sent)\n",
    "    with open(dataset_type+\"_hpac.txt\", \"w\") as f:\n",
    "        for i, r in df[[\"spell\", \"preprocess_sent\"]].iterrows():\n",
    "            f.write(r[0] + \" \" + r[1]+\"\\n\")\n",
    "    "
   ]
  },
  {
   "cell_type": "code",
   "execution_count": null,
   "metadata": {},
   "outputs": [],
   "source": [
    "create_fasttext_dataset(train_df, dataset_type=\"train\")\n",
    "create_fasttext_dataset(test_df, dataset_type=\"test\")\n",
    "create_fasttext_dataset(dev_df, dataset_type=\"dev\")\n"
   ]
  },
  {
   "cell_type": "code",
   "execution_count": null,
   "metadata": {
    "ExecuteTime": {
     "end_time": "2022-11-17T22:34:36.099601Z",
     "start_time": "2022-11-17T22:34:36.044314Z"
    }
   },
   "outputs": [],
   "source": [
    "model = fasttext.train_supervised(\"train_hpac.txt\", autotuneValidationFile=\"dev_hpac.txt\")"
   ]
  },
  {
   "cell_type": "code",
   "execution_count": null,
   "metadata": {},
   "outputs": [],
   "source": [
    "model.save_model(\"hpac_fasttext.bin\")"
   ]
  },
  {
   "cell_type": "code",
   "execution_count": 124,
   "metadata": {
    "ExecuteTime": {
     "end_time": "2022-11-17T22:34:28.446281Z",
     "start_time": "2022-11-17T22:34:28.304666Z"
    }
   },
   "outputs": [
    {
     "name": "stderr",
     "output_type": "stream",
     "text": [
      "Warning : `load_model` does not return WordVectorModel or SupervisedModel any more, but a `FastText` object which is very similar.\n"
     ]
    }
   ],
   "source": [
    "model = fasttext.load_model(\"hpac_fasttext.bin\")"
   ]
  },
  {
   "cell_type": "code",
   "execution_count": 127,
   "metadata": {
    "ExecuteTime": {
     "end_time": "2022-11-17T22:35:15.805566Z",
     "start_time": "2022-11-17T22:35:15.427783Z"
    }
   },
   "outputs": [
    {
     "name": "stdout",
     "output_type": "stream",
     "text": [
      "Samples: 7679, Presicion: 0.24846985284542258, Recall:0.24846985284542258\n"
     ]
    }
   ],
   "source": [
    "n_samples, pr, rcl = model.test(\"test_hpac.txt\")\n",
    "print(f\"Samples: {n_samples}, Presicion: {pr}, Recall:{rcl}\")"
   ]
  },
  {
   "cell_type": "markdown",
   "metadata": {},
   "source": [
    "Нормальный результат."
   ]
  },
  {
   "cell_type": "markdown",
   "metadata": {},
   "source": [
    "Обучение сеток в другом ноутбуке, просто так произошло 🥸"
   ]
  },
  {
   "cell_type": "markdown",
   "metadata": {},
   "source": [
    "\n",
    "## Часть 4. [1 балл] Итоги\n",
    "Напишите краткое резюме проделанной работы. Читали ли вы сами Гарри Поттера или фанфики о нем и помогло ли вам знание предметной области в выполнении домашнего задания?"
   ]
  },
  {
   "cell_type": "markdown",
   "metadata": {},
   "source": [
    "    1. Посмотрели на словарик популярных слов. Никаких откровений для поттераманов, что Гарри на первом месте.\n",
    "    2. Обучили векторные представления: никаких сомнений, что аналогии к Белле, Гермионе и сексу -- садомазо.\n",
    "    3. Классификатор фасттекста настолько хорош, что он в проде в большой компании-маркетплейсе уже 6 лет. Спасибо, за то, что быстрый, не спасибо, за то, что нужно клеить весь датасет в один файл. Качество не блещет, но все еще не хуже чем нейронки."
   ]
  },
  {
   "cell_type": "code",
   "execution_count": null,
   "metadata": {},
   "outputs": [],
   "source": []
  }
 ],
 "metadata": {
  "kernelspec": {
   "display_name": "Python 3 (ipykernel)",
   "language": "python",
   "name": "python3"
  },
  "language_info": {
   "codemirror_mode": {
    "name": "ipython",
    "version": 3
   },
   "file_extension": ".py",
   "mimetype": "text/x-python",
   "name": "python",
   "nbconvert_exporter": "python",
   "pygments_lexer": "ipython3",
   "version": "3.9.7"
  },
  "toc": {
   "base_numbering": 1,
   "nav_menu": {},
   "number_sections": true,
   "sideBar": true,
   "skip_h1_title": false,
   "title_cell": "Table of Contents",
   "title_sidebar": "Contents",
   "toc_cell": false,
   "toc_position": {},
   "toc_section_display": true,
   "toc_window_display": false
  }
 },
 "nbformat": 4,
 "nbformat_minor": 4
}
